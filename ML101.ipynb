{
 "cells": [
  {
   "cell_type": "markdown",
   "metadata": {},
   "source": [
    "##### Materials: \n",
    "- download @ https://we.tl/t-XgmO9S5Nm8\n",
    "- download @ https://we.tl/t-cI6EvINvMT"
   ]
  },
  {
   "cell_type": "markdown",
   "metadata": {},
   "source": [
    "##### Bonus: https://we.tl/t-1D0pYbkOFZ"
   ]
  },
  {
   "cell_type": "markdown",
   "metadata": {},
   "source": [
    "# Introduction"
   ]
  },
  {
   "cell_type": "code",
   "execution_count": 59,
   "metadata": {},
   "outputs": [],
   "source": [
    "import pandas as pd\n",
    "import numpy as np\n",
    "import os\n",
    "import os.path\n",
    "import glob"
   ]
  },
  {
   "cell_type": "code",
   "execution_count": 60,
   "metadata": {},
   "outputs": [],
   "source": [
    "def read_dataset(path):\n",
    "    '''\n",
    "    the function reads the dataset via a path and returns a dataframe\n",
    "    \n",
    "    '''\n",
    "    df=pd.read_csv(path)\n",
    "    return df"
   ]
  },
  {
   "cell_type": "code",
   "execution_count": 14,
   "metadata": {},
   "outputs": [
    {
     "data": {
      "text/plain": [
       "'C:\\\\Users\\\\frede'"
      ]
     },
     "execution_count": 14,
     "metadata": {},
     "output_type": "execute_result"
    }
   ],
   "source": [
    "os.getcwd()"
   ]
  },
  {
   "cell_type": "code",
   "execution_count": 15,
   "metadata": {},
   "outputs": [
    {
     "data": {
      "text/plain": [
       "'C:\\\\Users\\\\frede\\\\iris.data'"
      ]
     },
     "execution_count": 15,
     "metadata": {},
     "output_type": "execute_result"
    }
   ],
   "source": [
    "os.getcwd() + '\\\\' + 'iris.data' #not recommended"
   ]
  },
  {
   "cell_type": "code",
   "execution_count": 18,
   "metadata": {},
   "outputs": [
    {
     "data": {
      "text/plain": [
       "'C:\\\\Users\\\\frede\\\\iris.data'"
      ]
     },
     "execution_count": 18,
     "metadata": {},
     "output_type": "execute_result"
    }
   ],
   "source": [
    "os.path.join(os.getcwd(), 'iris.data') # concatenate current working directory with the name of the file "
   ]
  },
  {
   "cell_type": "code",
   "execution_count": null,
   "metadata": {},
   "outputs": [],
   "source": []
  },
  {
   "cell_type": "code",
   "execution_count": 21,
   "metadata": {},
   "outputs": [],
   "source": [
    "def is_file_exist(path):\n",
    "    '''\n",
    "    The function checks the full path's existence in the current directory and returns a boolean\n",
    "    '''\n",
    "    full_path = os.path.join(os.getcwd(), path)\n",
    "    return os.path.isfile(full_path)"
   ]
  },
  {
   "cell_type": "code",
   "execution_count": 29,
   "metadata": {},
   "outputs": [],
   "source": [
    "def check_file(filename):\n",
    "    '''\n",
    "    If the file in path exists return true, else false\n",
    "    \n",
    "    '''\n",
    "    fullname = os.path.join(os.getcwd(), filename)\n",
    "    \n",
    "    if os.path.isfile(fullname):\n",
    "        return True\n",
    "    else:\n",
    "        return False\n",
    "    \n",
    "    #We create this function to be reusable"
   ]
  },
  {
   "cell_type": "code",
   "execution_count": 30,
   "metadata": {},
   "outputs": [
    {
     "data": {
      "text/plain": [
       "True"
      ]
     },
     "execution_count": 30,
     "metadata": {},
     "output_type": "execute_result"
    }
   ],
   "source": [
    "is_file_exist('iris.data')"
   ]
  },
  {
   "cell_type": "code",
   "execution_count": 31,
   "metadata": {},
   "outputs": [
    {
     "data": {
      "text/plain": [
       "True"
      ]
     },
     "execution_count": 31,
     "metadata": {},
     "output_type": "execute_result"
    }
   ],
   "source": [
    "check_file('iris.data')"
   ]
  },
  {
   "cell_type": "code",
   "execution_count": 36,
   "metadata": {},
   "outputs": [],
   "source": [
    "def read_dataset(path, col_names = None):\n",
    "    '''\n",
    "    The function reads the dataset via a path and returns a dataframe\n",
    "    '''\n",
    "    if check_file(path) == True:\n",
    "        df=pd.read_csv(path, header = col_names)\n",
    "    else:\n",
    "        df = None\n",
    "    return df"
   ]
  },
  {
   "cell_type": "code",
   "execution_count": 7,
   "metadata": {},
   "outputs": [],
   "source": [
    "my_path = 'iris.data' # Both the notebook and the file have to be located in the same folder"
   ]
  },
  {
   "cell_type": "code",
   "execution_count": 38,
   "metadata": {},
   "outputs": [],
   "source": [
    "df_iris = read_dataset('iris.data')"
   ]
  },
  {
   "cell_type": "code",
   "execution_count": 47,
   "metadata": {},
   "outputs": [],
   "source": [
    "df_iris.columns = ['Petal length', 'Petal width', 'Sepal lenght','Sepal width', 'Species']"
   ]
  },
  {
   "cell_type": "code",
   "execution_count": 48,
   "metadata": {},
   "outputs": [
    {
     "data": {
      "text/html": [
       "<div>\n",
       "<style scoped>\n",
       "    .dataframe tbody tr th:only-of-type {\n",
       "        vertical-align: middle;\n",
       "    }\n",
       "\n",
       "    .dataframe tbody tr th {\n",
       "        vertical-align: top;\n",
       "    }\n",
       "\n",
       "    .dataframe thead th {\n",
       "        text-align: right;\n",
       "    }\n",
       "</style>\n",
       "<table border=\"1\" class=\"dataframe\">\n",
       "  <thead>\n",
       "    <tr style=\"text-align: right;\">\n",
       "      <th></th>\n",
       "      <th>Petal length</th>\n",
       "      <th>Petal width</th>\n",
       "      <th>Sepal lenght</th>\n",
       "      <th>Sepal width</th>\n",
       "      <th>Species</th>\n",
       "    </tr>\n",
       "  </thead>\n",
       "  <tbody>\n",
       "    <tr>\n",
       "      <th>0</th>\n",
       "      <td>5.1</td>\n",
       "      <td>3.5</td>\n",
       "      <td>1.4</td>\n",
       "      <td>0.2</td>\n",
       "      <td>Iris-setosa</td>\n",
       "    </tr>\n",
       "    <tr>\n",
       "      <th>1</th>\n",
       "      <td>4.9</td>\n",
       "      <td>3.0</td>\n",
       "      <td>1.4</td>\n",
       "      <td>0.2</td>\n",
       "      <td>Iris-setosa</td>\n",
       "    </tr>\n",
       "    <tr>\n",
       "      <th>2</th>\n",
       "      <td>4.7</td>\n",
       "      <td>3.2</td>\n",
       "      <td>1.3</td>\n",
       "      <td>0.2</td>\n",
       "      <td>Iris-setosa</td>\n",
       "    </tr>\n",
       "    <tr>\n",
       "      <th>3</th>\n",
       "      <td>4.6</td>\n",
       "      <td>3.1</td>\n",
       "      <td>1.5</td>\n",
       "      <td>0.2</td>\n",
       "      <td>Iris-setosa</td>\n",
       "    </tr>\n",
       "    <tr>\n",
       "      <th>4</th>\n",
       "      <td>5.0</td>\n",
       "      <td>3.6</td>\n",
       "      <td>1.4</td>\n",
       "      <td>0.2</td>\n",
       "      <td>Iris-setosa</td>\n",
       "    </tr>\n",
       "  </tbody>\n",
       "</table>\n",
       "</div>"
      ],
      "text/plain": [
       "   Petal length  Petal width  Sepal lenght  Sepal width      Species\n",
       "0           5.1          3.5           1.4          0.2  Iris-setosa\n",
       "1           4.9          3.0           1.4          0.2  Iris-setosa\n",
       "2           4.7          3.2           1.3          0.2  Iris-setosa\n",
       "3           4.6          3.1           1.5          0.2  Iris-setosa\n",
       "4           5.0          3.6           1.4          0.2  Iris-setosa"
      ]
     },
     "execution_count": 48,
     "metadata": {},
     "output_type": "execute_result"
    }
   ],
   "source": [
    "df_iris.head()"
   ]
  },
  {
   "cell_type": "code",
   "execution_count": 54,
   "metadata": {},
   "outputs": [],
   "source": [
    "def read_dataset(path, col_names = None):\n",
    "    '''\n",
    "    The function reads the dataset via a path and returns a dataframe\n",
    "    '''\n",
    "    if check_file(path) == True:\n",
    "        df=pd.read_csv(path, header = col_names)\n",
    "    else:\n",
    "        df = None\n",
    "    return df"
   ]
  },
  {
   "cell_type": "code",
   "execution_count": 56,
   "metadata": {},
   "outputs": [
    {
     "data": {
      "text/plain": [
       "['.aws',\n",
       " '.bash_history',\n",
       " '.conda',\n",
       " '.condarc',\n",
       " '.git',\n",
       " '.gitconfig',\n",
       " '.ipynb_checkpoints',\n",
       " '.ipython',\n",
       " '.jupyter',\n",
       " '.matplotlib',\n",
       " '.pylint.d',\n",
       " '.spyder-py3',\n",
       " '.vscode',\n",
       " '3D Objects',\n",
       " 'Anaconda3',\n",
       " 'Analyzing CIA Factbook Data (Using SQL).ipynb',\n",
       " 'AppData',\n",
       " 'Application Data',\n",
       " 'BOOTCAMP2021',\n",
       " 'Contacts',\n",
       " 'Cookies',\n",
       " 'directory.txt',\n",
       " 'Documents',\n",
       " 'Downloads',\n",
       " 'exercise_env',\n",
       " 'factbook.db',\n",
       " 'Favorites',\n",
       " 'file.txt',\n",
       " 'funWithPowerShell',\n",
       " 'gitTest',\n",
       " 'Guided Project - Exploring Hacker News Posts Analysis.ipynb',\n",
       " 'IntelGraphicsProfiles',\n",
       " 'iris.data',\n",
       " 'Links',\n",
       " 'Local Settings',\n",
       " 'Menu Démarrer',\n",
       " 'Mes documents',\n",
       " 'Modèles',\n",
       " 'Music',\n",
       " 'my_project',\n",
       " 'my_virtual_env',\n",
       " 'new_virtual_env',\n",
       " 'NTUSER.DAT',\n",
       " 'ntuser.dat.LOG1',\n",
       " 'ntuser.dat.LOG2',\n",
       " 'NTUSER.DAT{2cf6fde4-49f9-11eb-b3ea-f2fb373846ff}.TM.blf',\n",
       " 'NTUSER.DAT{2cf6fde4-49f9-11eb-b3ea-f2fb373846ff}.TMContainer00000000000000000001.regtrans-ms',\n",
       " 'NTUSER.DAT{2cf6fde4-49f9-11eb-b3ea-f2fb373846ff}.TMContainer00000000000000000002.regtrans-ms',\n",
       " 'ntuser.ini',\n",
       " 'ODBA',\n",
       " 'OneDrive',\n",
       " 'Profitable App Profiles for the App Store and Google Play Markets.ipynb',\n",
       " 'python_S21',\n",
       " 'Recent',\n",
       " 'Saved Games',\n",
       " 'Searches',\n",
       " 'SendTo',\n",
       " 'source',\n",
       " 'Untitled.ipynb',\n",
       " 'untitled.txt',\n",
       " 'Untitled1.ipynb',\n",
       " 'Untitled2.ipynb',\n",
       " 'Untitled3.ipynb',\n",
       " 'Untitled4.ipynb',\n",
       " 'Videos',\n",
       " \"Voisinage d'impression\",\n",
       " 'Voisinage réseau',\n",
       " 'Web Scraping with Python.ipynb']"
      ]
     },
     "execution_count": 56,
     "metadata": {},
     "output_type": "execute_result"
    }
   ],
   "source": [
    "list_files_cur()"
   ]
  },
  {
   "cell_type": "code",
   "execution_count": 57,
   "metadata": {},
   "outputs": [],
   "source": [
    "def list_file_with_extension(extension):\n",
    "    '''\n",
    "    This function returns the list of the files with a given etension in the current directory\n",
    "    '''\n",
    "    current_directory = os.getcwd()\n",
    "    all_files = list_files_cur()\n",
    "    result = [file for file in all_files if file.endswith(extension)]\n",
    "    return result"
   ]
  },
  {
   "cell_type": "code",
   "execution_count": 58,
   "metadata": {},
   "outputs": [
    {
     "data": {
      "text/plain": [
       "['Analyzing CIA Factbook Data (Using SQL).ipynb',\n",
       " 'Guided Project - Exploring Hacker News Posts Analysis.ipynb',\n",
       " 'Profitable App Profiles for the App Store and Google Play Markets.ipynb',\n",
       " 'Untitled.ipynb',\n",
       " 'Untitled1.ipynb',\n",
       " 'Untitled2.ipynb',\n",
       " 'Untitled3.ipynb',\n",
       " 'Untitled4.ipynb',\n",
       " 'Web Scraping with Python.ipynb']"
      ]
     },
     "execution_count": 58,
     "metadata": {},
     "output_type": "execute_result"
    }
   ],
   "source": [
    "list_file_with_extension('ipynb')"
   ]
  },
  {
   "cell_type": "code",
   "execution_count": 77,
   "metadata": {},
   "outputs": [],
   "source": [
    "def clean_extension(extension):\n",
    "    '''\n",
    "    This function cleans the extension given a parameter: removes spaces and/or dot\n",
    "    '''\n",
    "    clean_extension = extension.trip()\n",
    "    if clean_extension.startswith('.'): # check if there is a . at the begining of the extension\n",
    "        clean_extension = clean_extension[1:] # if yes, select only the extension from the 2nd character\n",
    "    return clean_extension"
   ]
  },
  {
   "cell_type": "code",
   "execution_count": 80,
   "metadata": {},
   "outputs": [],
   "source": [
    "def list_file_with_extension_cur_glob(extension):\n",
    "    '''\n",
    "    This function returns the list of the files with a give, extension in the current directory using glob\n",
    "    '''\n",
    "    extension = clean_extension(extension)\n",
    "    allowed = ['pdf', 'csv', 'data', 'txt'] #list of allowed extensions\n",
    "    try:\n",
    "        if extension not in allowed:\n",
    "            raise ValueError\n",
    "        else:\n",
    "            current_directory = os.getcwd()\n",
    "            full_path = os.path.join(current_directory, '*.' + extension)\n",
    "            return glob.glob(f\"*.{extension}\")\n",
    "    except:\n",
    "        print('Extension used is not allowed, please used one of these: ')\n",
    "        print(str(allowed))"
   ]
  },
  {
   "cell_type": "code",
   "execution_count": 81,
   "metadata": {},
   "outputs": [
    {
     "ename": "AttributeError",
     "evalue": "'str' object has no attribute 'trip'",
     "output_type": "error",
     "traceback": [
      "\u001b[1;31m---------------------------------------------------------------------------\u001b[0m",
      "\u001b[1;31mAttributeError\u001b[0m                            Traceback (most recent call last)",
      "\u001b[1;32m<ipython-input-81-d1403e1bb1e1>\u001b[0m in \u001b[0;36m<module>\u001b[1;34m\u001b[0m\n\u001b[1;32m----> 1\u001b[1;33m \u001b[0mlist_file_with_extension_cur_glob\u001b[0m\u001b[1;33m(\u001b[0m\u001b[1;34m'data'\u001b[0m\u001b[1;33m)\u001b[0m\u001b[1;33m\u001b[0m\u001b[1;33m\u001b[0m\u001b[0m\n\u001b[0m",
      "\u001b[1;32m<ipython-input-80-5e7427cfe0d0>\u001b[0m in \u001b[0;36mlist_file_with_extension_cur_glob\u001b[1;34m(extension)\u001b[0m\n\u001b[0;32m      3\u001b[0m     \u001b[0mThis\u001b[0m \u001b[0mfunction\u001b[0m \u001b[0mreturns\u001b[0m \u001b[0mthe\u001b[0m \u001b[0mlist\u001b[0m \u001b[0mof\u001b[0m \u001b[0mthe\u001b[0m \u001b[0mfiles\u001b[0m \u001b[1;32mwith\u001b[0m \u001b[0ma\u001b[0m \u001b[0mgive\u001b[0m\u001b[1;33m,\u001b[0m \u001b[0mextension\u001b[0m \u001b[1;32min\u001b[0m \u001b[0mthe\u001b[0m \u001b[0mcurrent\u001b[0m \u001b[0mdirectory\u001b[0m \u001b[0musing\u001b[0m \u001b[0mglob\u001b[0m\u001b[1;33m\u001b[0m\u001b[1;33m\u001b[0m\u001b[0m\n\u001b[0;32m      4\u001b[0m     '''\n\u001b[1;32m----> 5\u001b[1;33m     \u001b[0mextension\u001b[0m \u001b[1;33m=\u001b[0m \u001b[0mclean_extension\u001b[0m\u001b[1;33m(\u001b[0m\u001b[0mextension\u001b[0m\u001b[1;33m)\u001b[0m\u001b[1;33m\u001b[0m\u001b[1;33m\u001b[0m\u001b[0m\n\u001b[0m\u001b[0;32m      6\u001b[0m     \u001b[0mallowed\u001b[0m \u001b[1;33m=\u001b[0m \u001b[1;33m[\u001b[0m\u001b[1;34m'pdf'\u001b[0m\u001b[1;33m,\u001b[0m \u001b[1;34m'csv'\u001b[0m\u001b[1;33m,\u001b[0m \u001b[1;34m'data'\u001b[0m\u001b[1;33m,\u001b[0m \u001b[1;34m'txt'\u001b[0m\u001b[1;33m]\u001b[0m \u001b[1;31m#list of allowed extensions\u001b[0m\u001b[1;33m\u001b[0m\u001b[1;33m\u001b[0m\u001b[0m\n\u001b[0;32m      7\u001b[0m     \u001b[1;32mtry\u001b[0m\u001b[1;33m:\u001b[0m\u001b[1;33m\u001b[0m\u001b[1;33m\u001b[0m\u001b[0m\n",
      "\u001b[1;32m<ipython-input-77-0f5047dfe6b3>\u001b[0m in \u001b[0;36mclean_extension\u001b[1;34m(extension)\u001b[0m\n\u001b[0;32m      3\u001b[0m     \u001b[0mThis\u001b[0m \u001b[0mfunction\u001b[0m \u001b[0mcleans\u001b[0m \u001b[0mthe\u001b[0m \u001b[0mextension\u001b[0m \u001b[0mgiven\u001b[0m \u001b[0ma\u001b[0m \u001b[0mparameter\u001b[0m\u001b[1;33m:\u001b[0m \u001b[0mremoves\u001b[0m \u001b[0mspaces\u001b[0m \u001b[1;32mand\u001b[0m\u001b[1;33m/\u001b[0m\u001b[1;32mor\u001b[0m \u001b[0mdot\u001b[0m\u001b[1;33m\u001b[0m\u001b[1;33m\u001b[0m\u001b[0m\n\u001b[0;32m      4\u001b[0m     '''\n\u001b[1;32m----> 5\u001b[1;33m     \u001b[0mclean_extension\u001b[0m \u001b[1;33m=\u001b[0m \u001b[0mextension\u001b[0m\u001b[1;33m.\u001b[0m\u001b[0mtrip\u001b[0m\u001b[1;33m(\u001b[0m\u001b[1;33m)\u001b[0m\u001b[1;33m\u001b[0m\u001b[1;33m\u001b[0m\u001b[0m\n\u001b[0m\u001b[0;32m      6\u001b[0m     \u001b[1;32mif\u001b[0m \u001b[0mclean_extension\u001b[0m\u001b[1;33m.\u001b[0m\u001b[0mstartswith\u001b[0m\u001b[1;33m(\u001b[0m\u001b[1;34m'.'\u001b[0m\u001b[1;33m)\u001b[0m\u001b[1;33m:\u001b[0m \u001b[1;31m# check if there is a . at the begining of the extension\u001b[0m\u001b[1;33m\u001b[0m\u001b[1;33m\u001b[0m\u001b[0m\n\u001b[0;32m      7\u001b[0m         \u001b[0mclean_extension\u001b[0m \u001b[1;33m=\u001b[0m \u001b[0mclean_extension\u001b[0m\u001b[1;33m[\u001b[0m\u001b[1;36m1\u001b[0m\u001b[1;33m:\u001b[0m\u001b[1;33m]\u001b[0m \u001b[1;31m# if yes, select only the extension from the 2nd character\u001b[0m\u001b[1;33m\u001b[0m\u001b[1;33m\u001b[0m\u001b[0m\n",
      "\u001b[1;31mAttributeError\u001b[0m: 'str' object has no attribute 'trip'"
     ]
    }
   ],
   "source": [
    "list_file_with_extension_cur_glob('data')"
   ]
  },
  {
   "cell_type": "code",
   "execution_count": 71,
   "metadata": {},
   "outputs": [
    {
     "name": "stdout",
     "output_type": "stream",
     "text": [
      "Extension used is not allowed, please used one of these: \n",
      "['pdf', 'csv', 'data', 'txt']\n"
     ]
    }
   ],
   "source": [
    "list_file_with_extension_cur_glob('ipynb')"
   ]
  },
  {
   "cell_type": "code",
   "execution_count": 72,
   "metadata": {},
   "outputs": [
    {
     "data": {
      "text/plain": [
       "['iris.data']"
      ]
     },
     "execution_count": 72,
     "metadata": {},
     "output_type": "execute_result"
    }
   ],
   "source": [
    "list_file_with_extension_cur_glob('.data')"
   ]
  },
  {
   "cell_type": "code",
   "execution_count": null,
   "metadata": {},
   "outputs": [],
   "source": [
    "Today's Lab goals are to get the basic understanding of:\n",
    "- functions\n",
    "- pandas\n",
    "- modules\n",
    "- data preparation\n",
    "- train a model ( sklearn)\n",
    "- evaluate the performance "
   ]
  },
  {
   "cell_type": "markdown",
   "metadata": {},
   "source": [
    "# Part 1 : GitHub 101"
   ]
  },
  {
   "cell_type": "markdown",
   "metadata": {},
   "source": [
    "Git clone/push/pull ?\n",
    "- https://www.youtube.com/watch?v=yXT1ElMEkW8"
   ]
  },
  {
   "cell_type": "code",
   "execution_count": null,
   "metadata": {},
   "outputs": [],
   "source": [
    "git clone"
   ]
  },
  {
   "cell_type": "code",
   "execution_count": null,
   "metadata": {},
   "outputs": [],
   "source": [
    "git status"
   ]
  },
  {
   "cell_type": "code",
   "execution_count": null,
   "metadata": {},
   "outputs": [],
   "source": [
    "git add ."
   ]
  },
  {
   "cell_type": "code",
   "execution_count": null,
   "metadata": {},
   "outputs": [],
   "source": [
    "git commit -m"
   ]
  },
  {
   "cell_type": "code",
   "execution_count": null,
   "metadata": {},
   "outputs": [],
   "source": [
    "git push"
   ]
  },
  {
   "cell_type": "markdown",
   "metadata": {},
   "source": [
    "# Part 2 : Datasets"
   ]
  },
  {
   "cell_type": "markdown",
   "metadata": {},
   "source": [
    "Many repositories exist:\n",
    "- Kaggle (online competitions + prizes)\n",
    "- UCI dataset"
   ]
  },
  {
   "cell_type": "code",
   "execution_count": null,
   "metadata": {},
   "outputs": [],
   "source": [
    "# What can you say about the datasets ?\n",
    "# what type of data is it, etc."
   ]
  },
  {
   "cell_type": "code",
   "execution_count": null,
   "metadata": {},
   "outputs": [],
   "source": []
  },
  {
   "cell_type": "code",
   "execution_count": null,
   "metadata": {},
   "outputs": [],
   "source": []
  },
  {
   "cell_type": "markdown",
   "metadata": {},
   "source": [
    "# Part 3 : Data exploration\n",
    "- statistics\n",
    "- hypothesis\n",
    "- plots (matplotlib, seaborn or better : plotly!)\n",
    "- outliers"
   ]
  },
  {
   "cell_type": "code",
   "execution_count": null,
   "metadata": {},
   "outputs": [],
   "source": []
  },
  {
   "cell_type": "code",
   "execution_count": null,
   "metadata": {},
   "outputs": [],
   "source": []
  },
  {
   "cell_type": "code",
   "execution_count": null,
   "metadata": {},
   "outputs": [],
   "source": []
  },
  {
   "cell_type": "code",
   "execution_count": null,
   "metadata": {},
   "outputs": [],
   "source": []
  },
  {
   "cell_type": "markdown",
   "metadata": {},
   "source": [
    "# Part 4 : Data preparation\n",
    "- data encoding\n",
    "- data standardisation\n",
    "- missing values\n",
    "    - Mean/median/MICE\n",
    "    "
   ]
  },
  {
   "cell_type": "code",
   "execution_count": null,
   "metadata": {},
   "outputs": [],
   "source": []
  },
  {
   "cell_type": "code",
   "execution_count": null,
   "metadata": {},
   "outputs": [],
   "source": []
  },
  {
   "cell_type": "code",
   "execution_count": null,
   "metadata": {},
   "outputs": [],
   "source": []
  },
  {
   "cell_type": "code",
   "execution_count": null,
   "metadata": {},
   "outputs": [],
   "source": []
  },
  {
   "cell_type": "code",
   "execution_count": null,
   "metadata": {},
   "outputs": [],
   "source": []
  },
  {
   "cell_type": "code",
   "execution_count": null,
   "metadata": {},
   "outputs": [],
   "source": []
  },
  {
   "cell_type": "markdown",
   "metadata": {},
   "source": [
    "# Part 5: Scikit-Learn\n",
    "- Train/Validation/Test\n",
    "- Algorithm picked (RF, XGBoost...)\n",
    "- train algorithm\n",
    "- Performance"
   ]
  },
  {
   "cell_type": "markdown",
   "metadata": {},
   "source": [
    "https://www.datacamp.com/community/tutorials/random-forests-classifier-python"
   ]
  },
  {
   "cell_type": "code",
   "execution_count": null,
   "metadata": {},
   "outputs": [],
   "source": []
  },
  {
   "cell_type": "code",
   "execution_count": null,
   "metadata": {},
   "outputs": [],
   "source": []
  },
  {
   "cell_type": "code",
   "execution_count": null,
   "metadata": {},
   "outputs": [],
   "source": []
  },
  {
   "cell_type": "code",
   "execution_count": null,
   "metadata": {},
   "outputs": [],
   "source": []
  },
  {
   "cell_type": "code",
   "execution_count": null,
   "metadata": {},
   "outputs": [],
   "source": []
  }
 ],
 "metadata": {
  "kernelspec": {
   "display_name": "Python 3",
   "language": "python",
   "name": "python3"
  },
  "language_info": {
   "codemirror_mode": {
    "name": "ipython",
    "version": 3
   },
   "file_extension": ".py",
   "mimetype": "text/x-python",
   "name": "python",
   "nbconvert_exporter": "python",
   "pygments_lexer": "ipython3",
   "version": "3.8.5"
  }
 },
 "nbformat": 4,
 "nbformat_minor": 4
}
